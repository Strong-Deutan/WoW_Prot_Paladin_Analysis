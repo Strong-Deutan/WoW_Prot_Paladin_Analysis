{
 "cells": [
  {
   "cell_type": "markdown",
   "id": "6dc3da87",
   "metadata": {},
   "source": [
    "# World of Warcraft Protection Paladin Analysis #"
   ]
  },
  {
   "cell_type": "markdown",
   "id": "20337060",
   "metadata": {},
   "source": [
    "## Introduction ##"
   ]
  },
  {
   "cell_type": "markdown",
   "id": "91f69465",
   "metadata": {},
   "source": [
    "World of Warcraft (WoW) is a massively multiplayer online role-playing game (MMORPG) created and released by Blizzard Entertainment in 2004. In WoW, players create character avatars which allow players to explore and partake in the game's various activities. WoW boasts three primary combat-related end-game acitivities: raiding, Mythic Plus (M+), and Player vs Player (PvP). \n",
    "\n",
    "When creating a character, players must assign their character a \"class\" of which there are thirteen in total. A character's class determines the abilties/spells said character will be capable of using. Within each class, specializations exists which allow each class to further enhance their capabilties towards performing a particualr role. Each class typically has three available specializations. Currently, a specialization allows a class to perform one of three roles:\n",
    "\n",
    "1. Tank - Uses abilties to draw the attacks of enemies\n",
    "\n",
    "2. DPS - Uses abilties to deal heavy damage to enemies\n",
    "\n",
    "3. Healer - Uses abilties to provide healing for and/or prevent damage to friendly players\n",
    "\n",
    "The class at the center of this analysis is \"Paladin.\" Paladins are holy knights that use the power of The Light to attack enemies or heal allies. The specializtion in question is \"Protection\" which allows the Paladin to perform as a tank.\n",
    "\n",
    "While World of Warcraft released in 2004, the game has seen many updates since then. Roughly every two years WoW receives a new \"expansion\" that adds additional vertical content to the game. These expansions provide opportunities for the developers to change various aspects of the game, such as class and specialization design.\n",
    "\n",
    "WoW's current expansion \"Dragonflight\" released in 2022 and brought many changes to class and specialzation design with it. For Protection Paladin in particular, a decision was made to remove Holy Power generation from the specialization's arguably most iconic ability \"Avenger's Shield.\" Avenger's Shield causes the Paladin to throw a shield of Holy Light at an enemy; the shield can ricochet and hit up to two additional enemies by default and 4 additional enemies when ehanced by talents (Avenger's Shield functions very similar to how Captain America's shield functions). \n",
    "\n",
    "When this change was announced, the response from the playerbase was generally negative as Avenger's Shield is quite a fun and impactful ability to press in AoE scenarios. In response to this feedback, Blizzard stated:\n",
    "\n",
    "    This is part of an effort to constrain Shield of the Righteous uptime, and transfer some of protection paladins’ defensive power out of Shield of the Righteous and into other cooldowns and forms of mitigation.\n",
    "   \n",
    "The goal of this analysis is to determine wether the stated goal of removing Holy Power generation from Avenger's Shield, a reduction in Shield of the Righteous uptime, has come to fruition. My hypothesis is Shield of the Righteous uptime has actually increased in Dragonflight relative to Shadowlands.\n",
    "\n",
    "I have chosen to investigate this matter as I believe that Protection Paladin was a very fun specialzition to play in Shadowlands and the sole change to Avenger's Shield Holy Power generation has made the specialization much less fun to play in Mythic Plus content. This is due to the fact that Judgment and Hammer of Wrath, single target Holy Power generating abilities, now have higher priority than Avenger's Shield, the specialization's most iconic AoE ability, in Aoe scenarios."
   ]
  },
  {
   "cell_type": "markdown",
   "id": "5a6a6b56",
   "metadata": {},
   "source": [
    "## Data Selection and Collection ##"
   ]
  },
  {
   "cell_type": "markdown",
   "id": "c55276cf",
   "metadata": {},
   "source": [
    "The data for this analysis was collected from \"Warcraft Logs\" a wesbite that WoW players can use to log combat data from M+ and raiding. In order for all of the combat data from a raid boss kill or M+ run to appear on the website at least one player in the group must log the activity; if no player in the group logs the activity, the raid boss kill or M+ run will still appear on the website but the detailed combat data for the activity will not be available.\n",
    "\n",
    "The data in this analysis was manually collected from the top 100 logged M+ runs from Shadowlands season 2 and Dragonflight season 1 for Halls of Atonement and Algathar Academy dungeons respectively. These dungeons were chosen as the basis for comparison as they have the same completion time (32 minutes), large and consistent mobs pulls, and similar amounts of downtime/travel-time. Shadowlands season 2 and Dragonflight season 1 were chosen for multiple reasons:\n",
    "\n",
    "1. Tier sets - Tier set bonuses are additional effects that a character will recieve if they have 2/5 and 4/5 pieces of their class armor set equipped. Tier sets for end-game character were not available in season 2 of Shadowlands; tier sets for end-game characters were available in Dragonflight season 1, though the efficacy of their effects were much less than previous tiers. Tier sets for end-game characters were reintroduced in season 3 of Shadowlands; the 4-piece effect for Protection Paladins was: When you take damage, you have a chance equal to 100% of your Block chance to cast Judgment at your attacker. These Judgements generated Holy Power, so Protection Paladins in seasons 3 and 4 of Shadowlands would have artificially high Shield of the Righteous uptime when compared to the specialization at a baseline level.\n",
    "\n",
    "\n",
    "2. Finality of data - Season 2 of Shadowlands and season 1 of Dragonflight have concluded at the time of this analysis. Season 2 of shadowlands ended in Febuary of 2022 and season 1 of dragonflight ended in May of 2023. This means that the top 100 runs for these seasons are \"locked in\" such that they will always be the top 100 run for each season. WoW is currently in season 2 of Dragonflight; if data on the top 100 runs in Dragonflight season 2 was collected today, it is not necessarily (and unlikely) the case that the top 100 runs would be the exact same a week later.\n",
    "\n",
    "Using the top 100 runs for each season opens the analysis up to selection bias as players completing the top 100 runs are arguably the best players in the world and hence will play differently than players of lesser skill; this likely is not a problem in this particualr scenario due to the fact that there are typically \"correct\" ways to play specializations. The players in the top 100 runs are the most likely to play their specializations correctly and perform on the specializations as designed by Blizzard. The \"correct\" way to play Protection Paladin from a defensive standpoint is to always have the armor buff from Shield of the Righteous up; not doing so results in the Paladin taking greatly increased damage."
   ]
  },
  {
   "cell_type": "code",
   "execution_count": 1,
   "id": "28b5a022",
   "metadata": {},
   "outputs": [
    {
     "name": "stdout",
     "output_type": "stream",
     "text": [
      "### Python version: 3.9.13 (main, Aug 25 2022, 23:51:50) [MSC v.1916 64 bit (AMD64)]\n",
      "### Numpy version: 1.23.5\n",
      "### Scipy version: 1.9.1\n",
      "### Pandas version: 1.4.4\n",
      "### Matplotlib version: 3.5.2\n",
      "------------\n"
     ]
    }
   ],
   "source": [
    "# Load packages\n",
    "import sys\n",
    "import os\n",
    "\n",
    "import numpy as np\n",
    "import scipy as sp\n",
    "from scipy import stats \n",
    "import pandas as pd\n",
    "import matplotlib\n",
    "from matplotlib import pyplot as plt\n",
    "\n",
    "import statsmodels.api as sm\n",
    "\n",
    "import webbrowser\n",
    "\n",
    "import time\n",
    "\n",
    "# check software versions\n",
    "print('### Python version: ' + sys.version)\n",
    "print('### Numpy version: ' + np.__version__)\n",
    "print('### Scipy version: ' + sp.__version__)\n",
    "print('### Pandas version: ' + pd.__version__)\n",
    "print('### Matplotlib version: ' + matplotlib.__version__)\n",
    "\n",
    "print('------------')"
   ]
  },
  {
   "cell_type": "code",
   "execution_count": 2,
   "id": "d915288f",
   "metadata": {},
   "outputs": [],
   "source": [
    "# Import Excel tables\n",
    "\n",
    "# Shadowlands season 2 data\n",
    "df1 = pd.read_excel('SL_paladin_M_data.xlsx')\n",
    "\n",
    "# Dragonflight season 1 data\n",
    "df2 = pd.read_excel('DF_Paladin_M_data.xlsx')"
   ]
  },
  {
   "cell_type": "code",
   "execution_count": 3,
   "id": "cc65998b",
   "metadata": {},
   "outputs": [
    {
     "data": {
      "text/html": [
       "<div>\n",
       "<style scoped>\n",
       "    .dataframe tbody tr th:only-of-type {\n",
       "        vertical-align: middle;\n",
       "    }\n",
       "\n",
       "    .dataframe tbody tr th {\n",
       "        vertical-align: top;\n",
       "    }\n",
       "\n",
       "    .dataframe thead th {\n",
       "        text-align: right;\n",
       "    }\n",
       "</style>\n",
       "<table border=\"1\" class=\"dataframe\">\n",
       "  <thead>\n",
       "    <tr style=\"text-align: right;\">\n",
       "      <th></th>\n",
       "      <th>SR_uptime_SL</th>\n",
       "      <th>SR_casts_SL</th>\n",
       "      <th>JDG_casts_SL</th>\n",
       "      <th>HOR_casts_SL</th>\n",
       "      <th>HOW_casts_SL</th>\n",
       "      <th>AS_casts_SL</th>\n",
       "      <th>SR_cpm_SL</th>\n",
       "      <th>JDG_cpm_SL</th>\n",
       "      <th>HOR_cpm_SL</th>\n",
       "      <th>HOW_cpm_SL</th>\n",
       "      <th>AS_cpm_SL</th>\n",
       "    </tr>\n",
       "  </thead>\n",
       "  <tbody>\n",
       "    <tr>\n",
       "      <th>0</th>\n",
       "      <td>86.70</td>\n",
       "      <td>437</td>\n",
       "      <td>276</td>\n",
       "      <td>307</td>\n",
       "      <td>138</td>\n",
       "      <td>178</td>\n",
       "      <td>13.9</td>\n",
       "      <td>8.8</td>\n",
       "      <td>9.8</td>\n",
       "      <td>4.4</td>\n",
       "      <td>5.7</td>\n",
       "    </tr>\n",
       "    <tr>\n",
       "      <th>1</th>\n",
       "      <td>86.56</td>\n",
       "      <td>376</td>\n",
       "      <td>271</td>\n",
       "      <td>231</td>\n",
       "      <td>141</td>\n",
       "      <td>150</td>\n",
       "      <td>12.8</td>\n",
       "      <td>9.2</td>\n",
       "      <td>7.9</td>\n",
       "      <td>4.8</td>\n",
       "      <td>5.1</td>\n",
       "    </tr>\n",
       "    <tr>\n",
       "      <th>2</th>\n",
       "      <td>84.91</td>\n",
       "      <td>404</td>\n",
       "      <td>281</td>\n",
       "      <td>292</td>\n",
       "      <td>142</td>\n",
       "      <td>155</td>\n",
       "      <td>13.6</td>\n",
       "      <td>9.4</td>\n",
       "      <td>9.8</td>\n",
       "      <td>4.8</td>\n",
       "      <td>5.2</td>\n",
       "    </tr>\n",
       "    <tr>\n",
       "      <th>3</th>\n",
       "      <td>83.32</td>\n",
       "      <td>374</td>\n",
       "      <td>255</td>\n",
       "      <td>255</td>\n",
       "      <td>123</td>\n",
       "      <td>162</td>\n",
       "      <td>12.5</td>\n",
       "      <td>8.5</td>\n",
       "      <td>8.5</td>\n",
       "      <td>4.1</td>\n",
       "      <td>5.4</td>\n",
       "    </tr>\n",
       "    <tr>\n",
       "      <th>4</th>\n",
       "      <td>82.70</td>\n",
       "      <td>407</td>\n",
       "      <td>276</td>\n",
       "      <td>285</td>\n",
       "      <td>133</td>\n",
       "      <td>175</td>\n",
       "      <td>13.6</td>\n",
       "      <td>9.2</td>\n",
       "      <td>9.5</td>\n",
       "      <td>4.5</td>\n",
       "      <td>5.9</td>\n",
       "    </tr>\n",
       "  </tbody>\n",
       "</table>\n",
       "</div>"
      ],
      "text/plain": [
       "   SR_uptime_SL  SR_casts_SL  JDG_casts_SL  HOR_casts_SL  HOW_casts_SL  \\\n",
       "0         86.70          437           276           307           138   \n",
       "1         86.56          376           271           231           141   \n",
       "2         84.91          404           281           292           142   \n",
       "3         83.32          374           255           255           123   \n",
       "4         82.70          407           276           285           133   \n",
       "\n",
       "   AS_casts_SL  SR_cpm_SL  JDG_cpm_SL  HOR_cpm_SL  HOW_cpm_SL  AS_cpm_SL  \n",
       "0          178       13.9         8.8         9.8         4.4        5.7  \n",
       "1          150       12.8         9.2         7.9         4.8        5.1  \n",
       "2          155       13.6         9.4         9.8         4.8        5.2  \n",
       "3          162       12.5         8.5         8.5         4.1        5.4  \n",
       "4          175       13.6         9.2         9.5         4.5        5.9  "
      ]
     },
     "execution_count": 3,
     "metadata": {},
     "output_type": "execute_result"
    }
   ],
   "source": [
    "df1.head()"
   ]
  },
  {
   "cell_type": "code",
   "execution_count": 4,
   "id": "be49178a",
   "metadata": {},
   "outputs": [
    {
     "data": {
      "text/html": [
       "<div>\n",
       "<style scoped>\n",
       "    .dataframe tbody tr th:only-of-type {\n",
       "        vertical-align: middle;\n",
       "    }\n",
       "\n",
       "    .dataframe tbody tr th {\n",
       "        vertical-align: top;\n",
       "    }\n",
       "\n",
       "    .dataframe thead th {\n",
       "        text-align: right;\n",
       "    }\n",
       "</style>\n",
       "<table border=\"1\" class=\"dataframe\">\n",
       "  <thead>\n",
       "    <tr style=\"text-align: right;\">\n",
       "      <th></th>\n",
       "      <th>SR_uptime_DF1</th>\n",
       "      <th>SR_casts_DF1</th>\n",
       "      <th>JDG_casts_DF1</th>\n",
       "      <th>HOR_casts_DF1</th>\n",
       "      <th>HOW_casts_DF1</th>\n",
       "      <th>AS_casts_DF1</th>\n",
       "      <th>SR_cpm_DF1</th>\n",
       "      <th>JDG_cpm_DF1</th>\n",
       "      <th>HOR_cpm_DF1</th>\n",
       "      <th>HOW_cpm_DF1</th>\n",
       "      <th>AS_cpm_DF1</th>\n",
       "    </tr>\n",
       "  </thead>\n",
       "  <tbody>\n",
       "    <tr>\n",
       "      <th>0</th>\n",
       "      <td>88.02</td>\n",
       "      <td>410</td>\n",
       "      <td>514</td>\n",
       "      <td>473</td>\n",
       "      <td>102</td>\n",
       "      <td>143.0</td>\n",
       "      <td>13.1</td>\n",
       "      <td>16.5</td>\n",
       "      <td>15.2</td>\n",
       "      <td>3.3</td>\n",
       "      <td>4.6</td>\n",
       "    </tr>\n",
       "    <tr>\n",
       "      <th>1</th>\n",
       "      <td>91.74</td>\n",
       "      <td>451</td>\n",
       "      <td>529</td>\n",
       "      <td>385</td>\n",
       "      <td>110</td>\n",
       "      <td>200.0</td>\n",
       "      <td>14.4</td>\n",
       "      <td>16.9</td>\n",
       "      <td>12.3</td>\n",
       "      <td>3.5</td>\n",
       "      <td>6.4</td>\n",
       "    </tr>\n",
       "    <tr>\n",
       "      <th>2</th>\n",
       "      <td>88.59</td>\n",
       "      <td>423</td>\n",
       "      <td>458</td>\n",
       "      <td>417</td>\n",
       "      <td>162</td>\n",
       "      <td>191.0</td>\n",
       "      <td>13.4</td>\n",
       "      <td>14.5</td>\n",
       "      <td>13.2</td>\n",
       "      <td>5.1</td>\n",
       "      <td>6.0</td>\n",
       "    </tr>\n",
       "    <tr>\n",
       "      <th>3</th>\n",
       "      <td>92.20</td>\n",
       "      <td>499</td>\n",
       "      <td>590</td>\n",
       "      <td>457</td>\n",
       "      <td>149</td>\n",
       "      <td>180.0</td>\n",
       "      <td>15.9</td>\n",
       "      <td>18.7</td>\n",
       "      <td>14.5</td>\n",
       "      <td>4.7</td>\n",
       "      <td>5.7</td>\n",
       "    </tr>\n",
       "    <tr>\n",
       "      <th>4</th>\n",
       "      <td>86.02</td>\n",
       "      <td>412</td>\n",
       "      <td>503</td>\n",
       "      <td>413</td>\n",
       "      <td>138</td>\n",
       "      <td>181.0</td>\n",
       "      <td>13.0</td>\n",
       "      <td>15.9</td>\n",
       "      <td>13.0</td>\n",
       "      <td>4.4</td>\n",
       "      <td>5.7</td>\n",
       "    </tr>\n",
       "  </tbody>\n",
       "</table>\n",
       "</div>"
      ],
      "text/plain": [
       "   SR_uptime_DF1  SR_casts_DF1  JDG_casts_DF1  HOR_casts_DF1  HOW_casts_DF1  \\\n",
       "0          88.02           410            514            473            102   \n",
       "1          91.74           451            529            385            110   \n",
       "2          88.59           423            458            417            162   \n",
       "3          92.20           499            590            457            149   \n",
       "4          86.02           412            503            413            138   \n",
       "\n",
       "   AS_casts_DF1  SR_cpm_DF1  JDG_cpm_DF1  HOR_cpm_DF1  HOW_cpm_DF1  AS_cpm_DF1  \n",
       "0         143.0        13.1         16.5         15.2          3.3         4.6  \n",
       "1         200.0        14.4         16.9         12.3          3.5         6.4  \n",
       "2         191.0        13.4         14.5         13.2          5.1         6.0  \n",
       "3         180.0        15.9         18.7         14.5          4.7         5.7  \n",
       "4         181.0        13.0         15.9         13.0          4.4         5.7  "
      ]
     },
     "execution_count": 4,
     "metadata": {},
     "output_type": "execute_result"
    }
   ],
   "source": [
    "df2.head()"
   ]
  },
  {
   "cell_type": "code",
   "execution_count": 5,
   "id": "d68c5b97",
   "metadata": {},
   "outputs": [
    {
     "name": "stdout",
     "output_type": "stream",
     "text": [
      "<class 'pandas.core.frame.DataFrame'>\n",
      "RangeIndex: 100 entries, 0 to 99\n",
      "Data columns (total 11 columns):\n",
      " #   Column        Non-Null Count  Dtype  \n",
      "---  ------        --------------  -----  \n",
      " 0   SR_uptime_SL  100 non-null    float64\n",
      " 1   SR_casts_SL   100 non-null    int64  \n",
      " 2   JDG_casts_SL  100 non-null    int64  \n",
      " 3   HOR_casts_SL  100 non-null    int64  \n",
      " 4   HOW_casts_SL  100 non-null    int64  \n",
      " 5   AS_casts_SL   100 non-null    int64  \n",
      " 6   SR_cpm_SL     100 non-null    float64\n",
      " 7   JDG_cpm_SL    100 non-null    float64\n",
      " 8   HOR_cpm_SL    100 non-null    float64\n",
      " 9   HOW_cpm_SL    100 non-null    float64\n",
      " 10  AS_cpm_SL     100 non-null    float64\n",
      "dtypes: float64(6), int64(5)\n",
      "memory usage: 8.7 KB\n",
      "<class 'pandas.core.frame.DataFrame'>\n",
      "RangeIndex: 100 entries, 0 to 99\n",
      "Data columns (total 11 columns):\n",
      " #   Column         Non-Null Count  Dtype  \n",
      "---  ------         --------------  -----  \n",
      " 0   SR_uptime_DF1  100 non-null    float64\n",
      " 1   SR_casts_DF1   100 non-null    int64  \n",
      " 2   JDG_casts_DF1  100 non-null    int64  \n",
      " 3   HOR_casts_DF1  100 non-null    int64  \n",
      " 4   HOW_casts_DF1  100 non-null    int64  \n",
      " 5   AS_casts_DF1   100 non-null    float64\n",
      " 6   SR_cpm_DF1     100 non-null    float64\n",
      " 7   JDG_cpm_DF1    100 non-null    float64\n",
      " 8   HOR_cpm_DF1    100 non-null    float64\n",
      " 9   HOW_cpm_DF1    100 non-null    float64\n",
      " 10  AS_cpm_DF1     100 non-null    float64\n",
      "dtypes: float64(7), int64(4)\n",
      "memory usage: 8.7 KB\n"
     ]
    }
   ],
   "source": [
    "# Check data frames\n",
    "\n",
    "# Shadowlands season 2\n",
    "df1.info()\n",
    "\n",
    "# Dragonflight season 1\n",
    "df2.info()"
   ]
  },
  {
   "cell_type": "code",
   "execution_count": 6,
   "id": "38d5b39e",
   "metadata": {},
   "outputs": [
    {
     "data": {
      "text/plain": [
       "<function matplotlib.pyplot.show(close=None, block=None)>"
      ]
     },
     "execution_count": 6,
     "metadata": {},
     "output_type": "execute_result"
    },
    {
     "data": {
      "image/png": "[encoded data removed]",
      "text/plain": [
       "<Figure size 1600x900 with 1 Axes>"
      ]
     },
     "metadata": {},
     "output_type": "display_data"
    }
   ],
   "source": [
    "# Histogram\n",
    "fig = plt.figure(figsize= (16, 9))\n",
    "ax = fig.add_subplot(111)\n",
    "plt.xlabel('% Uptime', fontsize = 20)\n",
    "plt.ylabel('Density', fontsize = 20)\n",
    "plt.title('Shield of the Righteous Uptime Density', fontsize = 30)\n",
    "\n",
    "plt.hist(df1['SR_uptime_SL'], label= \"SL\",\n",
    "                     density= True,\n",
    "                     alpha=1, edgecolor='black', bins=20)\n",
    "\n",
    "plt.hist(df2['SR_uptime_DF1'], label= \"DF\",\n",
    "                       density= True,\n",
    "                       alpha=0.75, edgecolor='black', bins=20)\n",
    "\n",
    "plt.legend(['Shadowlands', 'Dragonflight'])\n",
    "\n",
    "plt.show"
   ]
  },
  {
   "cell_type": "code",
   "execution_count": 7,
   "id": "df4ddf74",
   "metadata": {},
   "outputs": [
    {
     "data": {
      "image/png": "[encoded data removed]",
      "text/plain": [
       "<Figure size 1600x900 with 1 Axes>"
      ]
     },
     "metadata": {},
     "output_type": "display_data"
    }
   ],
   "source": [
    "# Bar graph of mean ability usage\n",
    "plt.figure(figsize= (16, 9))\n",
    "\n",
    "w = 0.4\n",
    "x = ['SotR', 'Judgment', 'HoR', 'HoW', 'AS']\n",
    "SL = [df1['SR_casts_SL'].mean(), df1['JDG_casts_SL'].mean(), df1['HOR_casts_SL'].mean(), df1['HOW_casts_SL'].mean(), df1['AS_casts_SL'].mean()]\n",
    "DF = [df2['SR_casts_DF1'].mean(), df2['JDG_casts_DF1'].mean(), df2['HOR_casts_DF1'].mean(), df2['HOW_casts_DF1'].mean(), df2['AS_casts_DF1'].mean()]\n",
    "\n",
    "#\n",
    "bar1 = np.arange(len(x))\n",
    "bar2 = [i+w for i in bar1]\n",
    "\n",
    "plot1 = plt.bar(bar1, SL, w, label = 'Shadowlands')\n",
    "plot2 = plt.bar(bar2, DF, w, label = 'Dragonflight')\n",
    "\n",
    "plt.bar_label(plot1, labels = SL, label_type = 'edge', padding = 1, fontsize = 12)\n",
    "plt.bar_label(plot2, labels = DF, label_type = 'edge', padding = 1, fontsize = 12)\n",
    "\n",
    "fig.tight_layout()\n",
    "\n",
    "plt.xlabel('Ability', fontsize = 14)\n",
    "plt.ylabel('Casts', fontsize = 14)\n",
    "plt.xticks(bar1 + w/2.1, x)\n",
    "plt.legend()\n",
    "plt.title('Average Abilities Cast Counts by Season', fontsize = 20)\n",
    "plt.show()"
   ]
  },
  {
   "cell_type": "code",
   "execution_count": 8,
   "id": "e65bcfc7",
   "metadata": {},
   "outputs": [
    {
     "name": "stdout",
     "output_type": "stream",
     "text": [
      "Judgement to Avenger's Shield ratio in Shadowlands: 1.695525230085687\n",
      "Judgement to Avenger's Shield ratio in Dragonflight: 3.124556233466751\n"
     ]
    }
   ],
   "source": [
    "# Judgement to Avenger's Shield ratio calculations\n",
    "\n",
    "# Shadowlands\n",
    "JDG_AS_SL = (df1['JDG_casts_SL'].mean() / df1['AS_casts_SL'].mean())\n",
    "print(\"Judgement to Avenger's Shield ratio in Shadowlands: \" + str(JDG_AS_SL))\n",
    "\n",
    "# Dragonflight\n",
    "JDG_AS_DF = (df2['JDG_casts_DF1'].mean() / df2['AS_casts_DF1'].mean())\n",
    "print(\"Judgement to Avenger's Shield ratio in Dragonflight: \" + str(JDG_AS_DF))"
   ]
  },
  {
   "cell_type": "markdown",
   "id": "8c49c75e",
   "metadata": {},
   "source": [
    "## T-test ##"
   ]
  },
  {
   "cell_type": "code",
   "execution_count": 9,
   "id": "b364e511",
   "metadata": {},
   "outputs": [],
   "source": [
    "# Convert to numpy\n",
    "x = df1['SR_uptime_SL'].to_numpy()\n",
    "y = df2['SR_uptime_DF1'].to_numpy()"
   ]
  },
  {
   "cell_type": "code",
   "execution_count": 10,
   "id": "3e8180fd",
   "metadata": {},
   "outputs": [
    {
     "data": {
      "text/plain": [
       "ShapiroResult(statistic=0.9891339540481567, pvalue=0.5951364040374756)"
      ]
     },
     "execution_count": 10,
     "metadata": {},
     "output_type": "execute_result"
    }
   ],
   "source": [
    "# Check for normal distribution\n",
    "sampling_difference = x - y\n",
    "\n",
    "stats.shapiro(sampling_difference)"
   ]
  },
  {
   "cell_type": "code",
   "execution_count": 11,
   "id": "bcca3f86",
   "metadata": {},
   "outputs": [
    {
     "data": {
      "text/plain": [
       "LeveneResult(statistic=14.74283774455753, pvalue=0.00016576253524296162)"
      ]
     },
     "execution_count": 11,
     "metadata": {},
     "output_type": "execute_result"
    }
   ],
   "source": [
    "# Check for homogeneity of variance\n",
    "stats.levene(x, y, center= 'mean')"
   ]
  },
  {
   "cell_type": "code",
   "execution_count": 12,
   "id": "3eb4f618",
   "metadata": {},
   "outputs": [
    {
     "name": "stdout",
     "output_type": "stream",
     "text": [
      "t-statistic = -14.707825216182473\n",
      "p-value = 5.674696203852807e-32\n"
     ]
    }
   ],
   "source": [
    "# Conduct Welch's t-test\n",
    "t_stat, p_val = stats.ttest_ind(x, y, equal_var = False)\n",
    "print(\"t-statistic = \" + str(t_stat))  \n",
    "print(\"p-value = \" + str(p_val))"
   ]
  },
  {
   "cell_type": "code",
   "execution_count": 13,
   "id": "831f02c9",
   "metadata": {},
   "outputs": [
    {
     "data": {
      "text/plain": [
       "8.771292582127186"
      ]
     },
     "execution_count": 13,
     "metadata": {},
     "output_type": "execute_result"
    }
   ],
   "source": [
    "# Calcualte percent change from SL to DF\n",
    "change = ((df2['SR_uptime_DF1'].mean() - df1['SR_uptime_SL'].mean()) / (df1['SR_uptime_SL'].mean())) * 100\n",
    "change"
   ]
  },
  {
   "cell_type": "markdown",
   "id": "e343342c",
   "metadata": {},
   "source": [
    "A p-value of 5.674696203852807e-32 indicates that the means for the two groups are statistcailly singificantly different from one another. The results of the test provide evidence that the removal of Holy Power generation from Avenger's Shield has not lead to a reduction in Shield of the Righteous uptime. In fact, Shield of the Righteous uptime has increased by 8.77% after the removal of Holy Power generation from Avenger's Shield.\n",
    "\n",
    "It is important to note that the results of this test do not indicate that the removal of Holy Power from Avenger's Shield have directly caused Shield of the Righteous uptime to increase; Shield of the Righteous uptime being greater in Dragonflight than Shadowlands is likely due to a multitude of factors which will be discussed below."
   ]
  },
  {
   "cell_type": "code",
   "execution_count": 14,
   "id": "db426037",
   "metadata": {},
   "outputs": [
    {
     "name": "stdout",
     "output_type": "stream",
     "text": [
      "                                 OLS Regression Results                                \n",
      "=======================================================================================\n",
      "Dep. Variable:            SR_casts_SL   R-squared (uncentered):                   0.998\n",
      "Model:                            OLS   Adj. R-squared (uncentered):              0.998\n",
      "Method:                 Least Squares   F-statistic:                          1.084e+04\n",
      "Date:                Wed, 02 Aug 2023   Prob (F-statistic):                   1.62e-126\n",
      "Time:                        13:56:15   Log-Likelihood:                         -430.07\n",
      "No. Observations:                 100   AIC:                                      868.1\n",
      "Df Residuals:                      96   BIC:                                      878.6\n",
      "Df Model:                           4                                                  \n",
      "Covariance Type:            nonrobust                                                  \n",
      "================================================================================\n",
      "                   coef    std err          t      P>|t|      [0.025      0.975]\n",
      "--------------------------------------------------------------------------------\n",
      "JDG_casts_SL     0.1774      0.100      1.767      0.080      -0.022       0.377\n",
      "HOR_casts_SL     0.5734      0.083      6.872      0.000       0.408       0.739\n",
      "HOW_casts_SL     0.7032      0.080      8.772      0.000       0.544       0.862\n",
      "AS_casts_SL      0.5593      0.155      3.610      0.000       0.252       0.867\n",
      "==============================================================================\n",
      "Omnibus:                       11.296   Durbin-Watson:                   1.857\n",
      "Prob(Omnibus):                  0.004   Jarque-Bera (JB):               11.583\n",
      "Skew:                          -0.757   Prob(JB):                      0.00305\n",
      "Kurtosis:                       3.699   Cond. No.                         40.1\n",
      "==============================================================================\n",
      "\n",
      "Notes:\n",
      "[1] R² is computed without centering (uncentered) since the model does not contain a constant.\n",
      "[2] Standard Errors assume that the covariance matrix of the errors is correctly specified.\n"
     ]
    }
   ],
   "source": [
    "# SotR casts Regression SL season 2\n",
    "\n",
    "res = sm.OLS(df1['SR_casts_SL'],(df1[['JDG_casts_SL', 'HOR_casts_SL', 'HOW_casts_SL', 'AS_casts_SL']])).fit()\n",
    "print(res.summary())"
   ]
  },
  {
   "cell_type": "code",
   "execution_count": 15,
   "id": "99bf542d",
   "metadata": {},
   "outputs": [
    {
     "name": "stdout",
     "output_type": "stream",
     "text": [
      "                                 OLS Regression Results                                \n",
      "=======================================================================================\n",
      "Dep. Variable:           SR_casts_DF1   R-squared (uncentered):                   0.994\n",
      "Model:                            OLS   Adj. R-squared (uncentered):              0.993\n",
      "Method:                 Least Squares   F-statistic:                              3674.\n",
      "Date:                Wed, 02 Aug 2023   Prob (F-statistic):                   4.76e-104\n",
      "Time:                        13:56:16   Log-Likelihood:                         -499.08\n",
      "No. Observations:                 100   AIC:                                      1006.\n",
      "Df Residuals:                      96   BIC:                                      1017.\n",
      "Df Model:                           4                                                  \n",
      "Covariance Type:            nonrobust                                                  \n",
      "=================================================================================\n",
      "                    coef    std err          t      P>|t|      [0.025      0.975]\n",
      "---------------------------------------------------------------------------------\n",
      "JDG_casts_DF1     0.6712      0.076      8.851      0.000       0.521       0.822\n",
      "HOR_casts_DF1     0.1666      0.081      2.053      0.043       0.006       0.328\n",
      "HOW_casts_DF1     0.3914      0.098      4.001      0.000       0.197       0.585\n",
      "AS_casts_DF1     -0.0792      0.108     -0.731      0.467      -0.294       0.136\n",
      "==============================================================================\n",
      "Omnibus:                       54.809   Durbin-Watson:                   2.148\n",
      "Prob(Omnibus):                  0.000   Jarque-Bera (JB):              166.577\n",
      "Skew:                           1.994   Prob(JB):                     6.73e-37\n",
      "Kurtosis:                       7.907   Cond. No.                         22.9\n",
      "==============================================================================\n",
      "\n",
      "Notes:\n",
      "[1] R² is computed without centering (uncentered) since the model does not contain a constant.\n",
      "[2] Standard Errors assume that the covariance matrix of the errors is correctly specified.\n"
     ]
    }
   ],
   "source": [
    "# SotR casts Regression DF season 1\n",
    "\n",
    "res = sm.OLS(df2['SR_casts_DF1'],(df2[['JDG_casts_DF1', 'HOR_casts_DF1', 'HOW_casts_DF1', 'AS_casts_DF1']])).fit()\n",
    "print(res.summary())"
   ]
  },
  {
   "cell_type": "code",
   "execution_count": null,
   "id": "da504aa8",
   "metadata": {},
   "outputs": [],
   "source": []
  }
 ],
 "metadata": {
  "kernelspec": {
   "display_name": "Python 3 (ipykernel)",
   "language": "python",
   "name": "python3"
  },
  "language_info": {
   "codemirror_mode": {
    "name": "ipython",
    "version": 3
   },
   "file_extension": ".py",
   "mimetype": "text/x-python",
   "name": "python",
   "nbconvert_exporter": "python",
   "pygments_lexer": "ipython3",
   "version": "3.9.13"
  }
 },
 "nbformat": 4,
 "nbformat_minor": 5
}
